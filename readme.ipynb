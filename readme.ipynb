{
 "cells": [
  {
   "metadata": {},
   "cell_type": "markdown",
   "source": [
    "# 블루스택 확성기 OCR 처리 자동화\n",
    "\n",
    "이 프로젝트는 블루스택(Android 에뮬레이터)에서 특정 창의 확성기 영역을 스크린샷으로 촬영한 뒤, OCR(광학 문자 인식)을 통해 텍스트를 추출하고 저장하는 작업을 자동화한 Python 프로그램입니다.\n",
    "\n",
    "## 주요 기능\n",
    "- 블루스택 창 활성화 및 스크린샷 촬영 (`F8` 키 시뮬레이션).\n",
    "- 촬영된 스크린샷에서 확성기 영역 이미지 추출 및 저장.\n",
    "- Tesseract OCR을 통해 이미지에서 텍스트 정보를 읽어 저장.\n",
    "- 스크린샷/저장 파일명을 기준 시간(5초 배수)으로 정렬.\n",
    "\n",
    "---\n",
    "\n",
    "## 설치 방법\n",
    "### 1. 의존성 설치\n",
    "프로젝트 실행에 필요한 Python 라이브러리를 설치해야 합니다. 아래 명령어를 통해 설치하세요:\n"
   ],
   "id": "8e92da7717efaa35"
  },
  {
   "metadata": {},
   "cell_type": "code",
   "outputs": [],
   "execution_count": null,
   "source": [
    "다른 필요한 패키지(예: glob, os)는 Python 표준 라이브러리에 포함되어 있습니다.\n",
    "\n",
    "---\n",
    "\n",
    "### 2. Tesseract 설치\n",
    "OCR 처리를 위해 Tesseract OCR 모듈이 필요합니다. [Tesseract 설치 페이지](https://github.com/tesseract-ocr/tesseract)를 참고하여 시스템에 Tesseract를 설치해주세요.\n",
    "\n",
    "설치 후, `tesseract.exe` 경로를 코드에 잘 설정해주세요:"
   ],
   "id": "62d665812ca62a9"
  },
  {
   "metadata": {},
   "cell_type": "code",
   "outputs": [],
   "execution_count": null,
   "source": [
    "\n",
    "---\n",
    "\n",
    "### 3. 실행하기\n",
    "`main.py`를 실행하여 프로젝트를 시작합니다:"
   ],
   "id": "bc8360009a898f4"
  },
  {
   "metadata": {},
   "cell_type": "code",
   "outputs": [],
   "execution_count": null,
   "source": [
    "\n",
    "---\n",
    "\n",
    "## 사용법\n",
    "1. **블루스택 실행**: 먼저 `Bluestacks.exe`를 실행하여 작업할 앱을 실행해주세요.\n",
    "2. **스크린샷 저장 경로 설정**:\n",
    "   - 기본 저장 디렉토리는 `D:/python/mafia42_megaphone_new1/mafia42screenshots`로 설정되어 있습니다.\n",
    "   - 필요 시 코드의 `self.base_path` 변수를 수정하세요.\n",
    "\n",
    "---\n",
    "\n",
    "## 폴더 디렉토리 구조\n",
    "기본 디렉토리 구조는 아래와 같습니다:\n"
   ],
   "id": "1e3e3e442a22cb16"
  },
  {
   "metadata": {},
   "cell_type": "code",
   "outputs": [],
   "execution_count": null,
   "source": [
    "\n",
    "---\n",
    "\n",
    "## 주요 기능 설명\n",
    "- **스크린샷 촬영 (5초 기준 조정)**:\n",
    "   - 블루스택 창을 활성화하고 `F8`을 통해 스크린샷을 촬영합니다.\n",
    "   - 촬영된 스크린샷은 가장 가까운 5초 단위 시간으로 파일명에 반영됩니다.\n",
    "\n",
    "- **확성기 영역 추출**:\n",
    "   - PyOpenCV로 이미지에서 확성기 영역만 추출해 새로운 이미지 파일로 저장합니다.\n",
    "\n",
    "- **OCR 텍스트 추출**:\n",
    "   - Tesseract OCR을 사용해 추출된 이미지에서 텍스트를 읽고, 이를 별도의 `.txt` 파일에 저장합니다.\n",
    "\n",
    "---\n",
    "\n",
    "## 예제 결과\n",
    "실행 완료 후 생성된 파일 예시는 다음과 같으며, 저장 디렉토리에 위치합니다:\n",
    "\n",
    "1. **확성기 이미지 파일**\n",
    "   ```\n",
    "   megaphone_Screenshot_2025.04.17_18.51.45.png\n",
    "   ```\n",
    "\n",
    "2. **OCR 결과 텍스트**\n",
    "   ```\n",
    "   megaphone_text.txt\n",
    "   ```\n",
    "\n",
    "---\n",
    "\n",
    "## 향후 개선 사항\n",
    "1. **시간 관리 로직 개선**: 다양한 시간대와 환경에서 더 높은 정확도로 5초 단위 정렬을 유지.\n",
    "2. **보조 로그 추가**: 더 많은 로그 예제를 통해 디버깅 과정을 단순화.\n",
    "3. **GUI 추가**: PyQt 또는 Tkinter를 사용해 GUI 기반 인터페이스 제공 (선택적).\n",
    "\n",
    "---\n",
    "\n",
    "## 라이센스\n",
    "`이 프로젝트는 학습 목적으로 제작되었으며, 상업적 사용은 금지될 수 있습니다.`"
   ],
   "id": "73fce1184f04ee3d"
  }
 ],
 "metadata": {
  "kernelspec": {
   "display_name": "Python 3",
   "language": "python",
   "name": "python3"
  },
  "language_info": {
   "codemirror_mode": {
    "name": "ipython",
    "version": 2
   },
   "file_extension": ".py",
   "mimetype": "text/x-python",
   "name": "python",
   "nbconvert_exporter": "python",
   "pygments_lexer": "ipython2",
   "version": "2.7.6"
  }
 },
 "nbformat": 4,
 "nbformat_minor": 5
}
